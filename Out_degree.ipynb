{
 "cells": [
  {
   "cell_type": "markdown",
   "metadata": {},
   "source": [
    "# Calculate the out-degree of EcoIN and core-EcoIN, then get the node information of the top 20"
   ]
  },
  {
   "cell_type": "code",
   "execution_count": null,
   "metadata": {},
   "outputs": [],
   "source": []
  },
  {
   "cell_type": "markdown",
   "metadata": {},
   "source": [
    "# Import the required packages"
   ]
  },
  {
   "cell_type": "code",
   "execution_count": 1,
   "metadata": {},
   "outputs": [],
   "source": [
    "import networkx as nx\n",
    "import numpy as np\n",
    "import pandas as pd\n",
    "from EcoIN_analysis_function import *"
   ]
  },
  {
   "cell_type": "markdown",
   "metadata": {},
   "source": [
    "# Input file"
   ]
  },
  {
   "cell_type": "code",
   "execution_count": 2,
   "metadata": {},
   "outputs": [],
   "source": [
    "total_file=r'./EcoIN.txt'#All EcoIN data\n",
    "core_total_file=r'./core-EcoIN.txt'#High quality EcoIN data\n",
    "\n",
    "total_reaction_file=r'./reaction_information.txt'#Reaction annotation information\n",
    "total_gene_file=r'./ecogene_information.txt' #Gene annotation information\n",
    "total_met_file=r'./metabolite_information.txt'#Metabolic annotation information\n"
   ]
  },
  {
   "cell_type": "markdown",
   "metadata": {},
   "source": [
    "# Output file"
   ]
  },
  {
   "cell_type": "code",
   "execution_count": 3,
   "metadata": {},
   "outputs": [
    {
     "name": "stdout",
     "output_type": "stream",
     "text": [
      "./network_analysis/\n"
     ]
    }
   ],
   "source": [
    "run_file=r'./network_analysis/'\n",
    "create_file(run_file)#Create an output directory\n",
    "\n",
    "EcoIN_node_analysis_degree=r'%s%s.txt' % (run_file,'EcoIN_node_analysis_degree')\n",
    "core_EcoIN_node_analysis_degree=r'%s%s.txt' % (run_file,'core_EcoIN_node_analysis_degree')\n",
    "EcoIN_TOP20_out_Degree_file=r'%s%s.txt' % (run_file,'EcoIN_TOP20_out_Degree_file')\n",
    "EcoIN_TOP20_out_Degree_file_ano=r'%s%s.txt' % (run_file,'EcoIN_TOP20_out_Degree_file_ano')\n",
    "EcoIN_TOP20_out_Degree_file_detail=r'%s%s.txt' % (run_file,'EcoIN_TOP20_out_Degree_file_detail')\n",
    "core_EcoIN_TOP20_out_Degree_file=r'%s%s.txt' % (run_file,'coreEcoIN_TOP20_out_Degree_file')\n",
    "core_EcoIN_TOP20_out_Degree_file_ano=r'%s%s.txt' % (run_file,'coreEcoIN_TOP20_out_Degree_file_ano')\n",
    "core_EcoIN_TOP20_out_Degree_file_detail=r'%s%s.txt' % (run_file,'coreEcoIN_TOP20_out_Degree_file_detail')"
   ]
  },
  {
   "cell_type": "markdown",
   "metadata": {},
   "source": [
    "# Network initialization"
   ]
  },
  {
   "cell_type": "code",
   "execution_count": 4,
   "metadata": {},
   "outputs": [],
   "source": [
    "DG_total=nx.DiGraph()\n",
    "DG_core=nx.DiGraph()\n",
    "\n",
    "DG_total=initial_network(DG_total,total_file)\n",
    "DG_core=initial_network(DG_core,core_total_file)\n"
   ]
  },
  {
   "cell_type": "markdown",
   "metadata": {},
   "source": [
    "# Outdegree analysis"
   ]
  },
  {
   "cell_type": "markdown",
   "metadata": {},
   "source": [
    "Calculate the indegree, outdegree and total degree of EcoIN and core-EcoIN"
   ]
  },
  {
   "cell_type": "code",
   "execution_count": 5,
   "metadata": {},
   "outputs": [],
   "source": [
    "outFile=open(EcoIN_node_analysis_degree,'w')\n",
    "\n",
    "for eachnode in DG_total.nodes():\n",
    "    anostr=reaction_anontation(eachnode,total_reaction_file)+gene_anontation(eachnode,total_gene_file)+met_anontation(eachnode,total_met_file)\n",
    "    outstr=eachnode+'\\t'+anostr+'\\t'+str(DG_total.in_degree(eachnode))+'\\t'+str(DG_total.out_degree(eachnode))+'\\t'+str(DG_total.degree(eachnode))+'\\n'\n",
    "    outFile.write(outstr)   \n",
    "outFile.close()\n",
    "\n",
    "outFile=open(core_EcoIN_node_analysis_degree,'w')\n",
    "\n",
    "for eachnode in DG_core.nodes():\n",
    "    anostr=reaction_anontation(eachnode,total_reaction_file)+gene_anontation(eachnode,total_gene_file)+met_anontation(eachnode,total_met_file)\n",
    "    outstr=eachnode+'\\t'+anostr+'\\t'+str(DG_core.in_degree(eachnode))+'\\t'+str(DG_core.out_degree(eachnode))+'\\t'+str(DG_core.degree(eachnode))+'\\n'\n",
    "    outFile.write(outstr)   \n",
    "outFile.close()"
   ]
  },
  {
   "cell_type": "markdown",
   "metadata": {},
   "source": [
    "The top 20 nodes in EcoIN and core-EcoIN"
   ]
  },
  {
   "cell_type": "code",
   "execution_count": 6,
   "metadata": {},
   "outputs": [],
   "source": [
    "lc=pd.read_csv(EcoIN_node_analysis_degree,sep='\\t',names=['node_id','node', 'in_degree', 'out_degree', 'total_degree'])\n",
    "TOP20_out_Degree=lc.sort_values([\"out_degree\"],ascending=False).head(20)\n",
    "TOP20_out_Degree.to_csv(EcoIN_TOP20_out_Degree_file, header=False, index=False,mode='w',sep='\\t') \n",
    "\n",
    "lc=pd.read_csv(core_EcoIN_node_analysis_degree,sep='\\t',names=['node_id','node', 'in_degree', 'out_degree', 'total_degree'])\n",
    "TOP20_out_Degree=lc.sort_values([\"out_degree\"],ascending=False).head(20)\n",
    "TOP20_out_Degree.to_csv(core_EcoIN_TOP20_out_Degree_file, header=False, index=False,mode='w',sep='\\t') "
   ]
  },
  {
   "cell_type": "markdown",
   "metadata": {},
   "source": [
    "Node annotation for EcoIN"
   ]
  },
  {
   "cell_type": "code",
   "execution_count": 7,
   "metadata": {},
   "outputs": [],
   "source": [
    "outFile=open(EcoIN_TOP20_out_Degree_file_detail,'w')\n",
    "outFile2=open(EcoIN_TOP20_out_Degree_file_ano,'w')\n",
    "for eachdata in open(EcoIN_TOP20_out_Degree_file):   \n",
    "    data=eachdata.split('\\t')\n",
    "    \n",
    "    anostr=reaction_anontation(data[0],total_reaction_file)+gene_anontation(data[0],total_gene_file)+met_anontation(data[0],total_met_file)\n",
    "    outstr2=anostr+'\\t'+eachdata\n",
    "    outFile2.write(outstr2)\n",
    "    node_succ=DG_total.successors(data[0])\n",
    "    node_type=[]\n",
    "    for eachnode in node_succ:\n",
    "        node_type.append(DG_total.get_edge_data(data[0],eachnode)['edgetype'])\n",
    "    myset = set(node_type)\n",
    "    for item in myset: \n",
    "        outstr=anostr+'\\t'+data[0]+'\\t'+str(node_type.count(item))+'\\t'+item+'\\n'\n",
    "        outFile.write(outstr)\n",
    "outFile.close()\n",
    "outFile2.close()\n",
    "\n"
   ]
  },
  {
   "cell_type": "markdown",
   "metadata": {},
   "source": [
    "Node annotation for coreEcoIN"
   ]
  },
  {
   "cell_type": "code",
   "execution_count": 8,
   "metadata": {},
   "outputs": [],
   "source": [
    "outFile=open(core_EcoIN_TOP20_out_Degree_file_detail,'w')\n",
    "outFile2=open(core_EcoIN_TOP20_out_Degree_file_ano,'w')\n",
    "for eachdata in open(core_EcoIN_TOP20_out_Degree_file):   \n",
    "    data=eachdata.split('\\t')\n",
    "    anostr=reaction_anontation(data[0],total_reaction_file)+gene_anontation(data[0],total_gene_file)+met_anontation(data[0],total_met_file)\n",
    "    outstr2=anostr+'\\t'+eachdata\n",
    "    outFile2.write(outstr2)\n",
    "    node_succ=DG_core.successors(data[0])\n",
    "    node_type=[]\n",
    "    for eachnode in node_succ:\n",
    "        node_type.append(DG_core.get_edge_data(data[0],eachnode)['edgetype'])\n",
    "    myset = set(node_type) \n",
    "    for item in myset: \n",
    "        outstr=anostr+'\\t'+data[0]+'\\t'+str(node_type.count(item))+'\\t'+item+'\\n'\n",
    "        outFile.write(outstr)\n",
    "outFile.close()\n",
    "outFile2.close()\n",
    "\n"
   ]
  },
  {
   "cell_type": "code",
   "execution_count": null,
   "metadata": {},
   "outputs": [],
   "source": []
  }
 ],
 "metadata": {
  "kernelspec": {
   "display_name": "Python [default]",
   "language": "python",
   "name": "python3"
  },
  "language_info": {
   "codemirror_mode": {
    "name": "ipython",
    "version": 3
   },
   "file_extension": ".py",
   "mimetype": "text/x-python",
   "name": "python",
   "nbconvert_exporter": "python",
   "pygments_lexer": "ipython3",
   "version": "3.6.4"
  }
 },
 "nbformat": 4,
 "nbformat_minor": 2
}
