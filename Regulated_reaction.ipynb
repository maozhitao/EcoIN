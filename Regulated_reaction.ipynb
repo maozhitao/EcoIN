{
 "cells": [
  {
   "cell_type": "markdown",
   "metadata": {},
   "source": [
    "# Get the number of reactions (enzyme catalyzed) that regulated using RegulonDB, core-EcoIN and EcoIN"
   ]
  },
  {
   "cell_type": "code",
   "execution_count": null,
   "metadata": {},
   "outputs": [],
   "source": []
  },
  {
   "cell_type": "markdown",
   "metadata": {},
   "source": [
    "# Import the required packages"
   ]
  },
  {
   "cell_type": "code",
   "execution_count": 1,
   "metadata": {},
   "outputs": [],
   "source": [
    "import networkx as nx\n",
    "from EcoIN_analysis_function import * #Packaged EcoIN analysis function"
   ]
  },
  {
   "cell_type": "markdown",
   "metadata": {},
   "source": [
    "# Input file"
   ]
  },
  {
   "cell_type": "code",
   "execution_count": 2,
   "metadata": {},
   "outputs": [],
   "source": [
    "total_file=r'./EcoIN.txt' #All EcoIN data\n",
    "core_total_file=r'./core-EcoIN.txt' #High quality EcoIN data\n",
    "ini_met_tf_file=r'./20180822met_regulonDB.txt' #including regulatory information in RegulonDB and metabolic network\n",
    "\n",
    "total_reaction_file=r'./reaction_information.txt' #Reaction annotation information\n",
    "total_gene_file=r'./ecogene_information.txt' #Gene annotation information\n",
    "total_met_file=r'./metabolite_information.txt' #Metabolic annotation information\n"
   ]
  },
  {
   "cell_type": "markdown",
   "metadata": {},
   "source": [
    "# Network initialization"
   ]
  },
  {
   "cell_type": "code",
   "execution_count": 3,
   "metadata": {},
   "outputs": [],
   "source": [
    "DG_total=nx.DiGraph()#Directed graph\n",
    "DG_total_met=nx.DiGraph()\n",
    "DG_core=nx.DiGraph()\n",
    "DG_regulonDB_tf=nx.DiGraph()\n",
    "\n",
    "DG_total_met=met_network(DG_total_met,total_file) #met_network function in EcoIN_analysis_function.py\n",
    "DG_total=initial_network(DG_total,total_file)\n",
    "DG_core=initial_network(DG_core,core_total_file)\n",
    "DG_regulonDB_tf=regulonDB_tfnetwork(DG_regulonDB_tf,ini_met_tf_file)\n",
    "\n"
   ]
  },
  {
   "cell_type": "markdown",
   "metadata": {},
   "source": [
    "# Count the number of reactions that are regulated"
   ]
  },
  {
   "cell_type": "markdown",
   "metadata": {},
   "source": [
    "Get the total number of reactions (enzyme catalyzed) in the metabolic network"
   ]
  },
  {
   "cell_type": "code",
   "execution_count": 4,
   "metadata": {},
   "outputs": [
    {
     "name": "stdout",
     "output_type": "stream",
     "text": [
      "Total reactions: 2123\n"
     ]
    }
   ],
   "source": [
    "reaction_list=[]\n",
    "\n",
    "for eachdata in open(ini_met_tf_file):   \n",
    "    tm=eachdata.split('\\n')\n",
    "    data=tm[0].split('\\t')        \n",
    "    if re.search('reaction_gene',data[3]):\n",
    "        reaction_list.append(data[1]) \n",
    "uni_reaction_list=list(set(reaction_list))\n",
    "print('Total reactions:',len(uni_reaction_list))"
   ]
  },
  {
   "cell_type": "markdown",
   "metadata": {},
   "source": [
    "Get the TF regulated reactions (enzyme catalyzed) in the metabolic network (using RegunlonDB)"
   ]
  },
  {
   "cell_type": "code",
   "execution_count": 5,
   "metadata": {},
   "outputs": [
    {
     "name": "stdout",
     "output_type": "stream",
     "text": [
      "TF numbers in RegulonDB : 199\n",
      "Target numbers in RegulonDB : 1712\n"
     ]
    }
   ],
   "source": [
    "#get TF and targets\n",
    "targetlist=[]\n",
    "tflist=[]\n",
    "for eachdata in open(ini_met_tf_file):   \n",
    "    tm=eachdata.split('\\n')\n",
    "    data=tm[0].split('\\t')        \n",
    "    if re.search('tf-gene',data[3]):\n",
    "        targetlist.append(data[1])\n",
    "        tflist.append(data[0])\n",
    "uni_tflist=list(set(tflist))\n",
    "print('TF numbers in RegulonDB :',len(uni_tflist))\n",
    "uni_targetlist=list(set(targetlist))\n",
    "print('Target numbers in RegulonDB :',len(uni_targetlist))"
   ]
  },
  {
   "cell_type": "code",
   "execution_count": 6,
   "metadata": {},
   "outputs": [
    {
     "name": "stdout",
     "output_type": "stream",
     "text": [
      "Regulated reactions in RegulonDB : 1251\n",
      "Regulated genes in RegulonDB : 832\n",
      "Proportion : 0.5892604804521903\n"
     ]
    }
   ],
   "source": [
    "#calculation\n",
    "reg_reaction=[]\n",
    "reg_gene=[]\n",
    "for eachdata in open(ini_met_tf_file):   \n",
    "    tm=eachdata.split('\\n')\n",
    "    data=tm[0].split('\\t')        \n",
    "    if re.search('reaction_gene',data[3]): \n",
    "        if data[0] in uni_targetlist:\n",
    "            reg_reaction.append(data[1])\n",
    "            reg_gene.append(data[0])\n",
    "            \n",
    "uni_reg_reaction=list(set(reg_reaction))  \n",
    "uni_reg_gene=list(set(reg_gene)) \n",
    "print('Regulated reactions in RegulonDB :',len(uni_reg_reaction))\n",
    "print('Regulated genes in RegulonDB :',len(uni_reg_gene))\n",
    "print('Proportion :',len(uni_reg_reaction)/len(uni_reaction_list))\n"
   ]
  },
  {
   "cell_type": "markdown",
   "metadata": {},
   "source": [
    "Get the regulated reactions (enzyme catalyzed) in the metabolic network (using EcoIN)"
   ]
  },
  {
   "cell_type": "code",
   "execution_count": 7,
   "metadata": {},
   "outputs": [],
   "source": [
    "def get_regulator_and_targtet(infile):\n",
    "    targetlist=[]\n",
    "    regulatorlist=[]\n",
    "    for eachdata in open(infile):   \n",
    "        tm=eachdata.split('\\n')\n",
    "        data=tm[0].split('\\t')        \n",
    "        if re.search('tf-gene',data[3]):\n",
    "            targetlist.append(data[1])\n",
    "            regulatorlist.append(data[0])\n",
    "        elif re.search('cpi',data[3]):\n",
    "            targetlist.append(data[1]) \n",
    "            regulatorlist.append(data[0])\n",
    "        elif re.search('ppi',data[3]):\n",
    "            targetlist.append(data[1])  \n",
    "            regulatorlist.append(data[0])\n",
    "        elif re.search('leader_peptide',data[3]):        \n",
    "            if data[2]=='Attenuation;':\n",
    "                targetlist.append(data[1]) \n",
    "                regulatorlist.append(data[0])\n",
    "        elif re.search('rna_regulation',data[3]):\n",
    "            targetlist.append(data[1]) \n",
    "            regulatorlist.append(data[0])\n",
    "        elif re.search('sigma_factor_regulation',data[3]):\n",
    "            targetlist.append(data[1])    \n",
    "            regulatorlist.append(data[0])\n",
    "        elif re.search('Signal_transduction',data[3]):  \n",
    "            if re.search('[c]',data[0]):\n",
    "                pass\n",
    "            else:\n",
    "                targetlist.append(data[1])  \n",
    "                regulatorlist.append(data[0])\n",
    "        elif re.search('Protein_modification',data[3]):\n",
    "            targetlist.append(data[1])\n",
    "            regulatorlist.append(data[0])    \n",
    "    return(regulatorlist,targetlist)"
   ]
  },
  {
   "cell_type": "code",
   "execution_count": 8,
   "metadata": {},
   "outputs": [
    {
     "name": "stdout",
     "output_type": "stream",
     "text": [
      "Total regulators in EcoIN : 4205\n",
      "Targets in EcoIN : 4228\n"
     ]
    }
   ],
   "source": [
    "#get regulators and targets\n",
    "[regulatorlist,targetlist]=get_regulator_and_targtet(total_file)\n",
    "uni_regulatorlist=list(set(regulatorlist))\n",
    "print('Total regulators in EcoIN :',len(uni_regulatorlist)) \n",
    "uni_targetlist=list(set(targetlist))\n",
    "print('Targets in EcoIN :',len(uni_targetlist))"
   ]
  },
  {
   "cell_type": "code",
   "execution_count": 9,
   "metadata": {},
   "outputs": [
    {
     "name": "stdout",
     "output_type": "stream",
     "text": [
      "Regulated reactions in EcoIN : 2122\n",
      "Regulated genes in EcoIN : 1364\n",
      "Proportion : 0.9995289684408856\n"
     ]
    }
   ],
   "source": [
    "reg_reaction=[]\n",
    "reg_gene=[]\n",
    "for eachdata in open(total_file):   \n",
    "    tm=eachdata.split('\\n')\n",
    "    data=tm[0].split('\\t')        \n",
    "    if re.search('reaction_gene',data[3]):\n",
    "        reaction_list.append(data[1]) \n",
    "        if data[0] in uni_targetlist:\n",
    "            reg_reaction.append(data[1])\n",
    "            reg_gene.append(data[0])\n",
    "\n",
    "uni_reg_reaction=list(set(reg_reaction))  \n",
    "uni_reg_gene=list(set(reg_gene)) \n",
    "print('Regulated reactions in EcoIN :',len(uni_reg_reaction))\n",
    "print('Regulated genes in EcoIN :',len(uni_reg_gene))\n",
    "print('Proportion :',len(uni_reg_reaction)/len(uni_reaction_list))"
   ]
  },
  {
   "cell_type": "markdown",
   "metadata": {},
   "source": [
    "Get the regulated reactions (enzyme catalyzed) in the metabolic network (using core-EcoIN)"
   ]
  },
  {
   "cell_type": "code",
   "execution_count": 10,
   "metadata": {},
   "outputs": [
    {
     "name": "stdout",
     "output_type": "stream",
     "text": [
      "Total regulators in core-EcoIN : 880\n",
      "Targets in core-EcoIN : 2710\n"
     ]
    }
   ],
   "source": [
    "#get regulators and targets\n",
    "[regulatorlist,targetlist]=get_regulator_and_targtet(core_total_file)\n",
    "uni_regulatorlist=list(set(regulatorlist))\n",
    "print('Total regulators in core-EcoIN :',len(uni_regulatorlist)) \n",
    "uni_targetlist=list(set(targetlist))\n",
    "print('Targets in core-EcoIN :',len(uni_targetlist))"
   ]
  },
  {
   "cell_type": "code",
   "execution_count": 11,
   "metadata": {},
   "outputs": [
    {
     "name": "stdout",
     "output_type": "stream",
     "text": [
      "Regulated reactions in core-EcoIN : 1844\n",
      "Regulated genes in core-EcoIN : 1182\n",
      "Proportion : 0.8685821950070655\n"
     ]
    }
   ],
   "source": [
    "reg_reaction=[]\n",
    "reg_gene=[]\n",
    "for eachdata in open(core_total_file):   \n",
    "    tm=eachdata.split('\\n')\n",
    "    data=tm[0].split('\\t')        \n",
    "    if re.search('reaction_gene',data[3]):\n",
    "        reaction_list.append(data[1]) \n",
    "        if data[0] in uni_targetlist:\n",
    "            reg_reaction.append(data[1])\n",
    "            reg_gene.append(data[0])\n",
    "            \n",
    "uni_reg_reaction=list(set(reg_reaction)) \n",
    "uni_reg_gene=list(set(reg_gene))\n",
    "print('Regulated reactions in core-EcoIN :',len(uni_reg_reaction))\n",
    "print('Regulated genes in core-EcoIN :',len(uni_reg_gene))\n",
    "print('Proportion :',len(uni_reg_reaction)/len(uni_reaction_list))\n"
   ]
  },
  {
   "cell_type": "code",
   "execution_count": null,
   "metadata": {},
   "outputs": [],
   "source": []
  }
 ],
 "metadata": {
  "kernelspec": {
   "display_name": "Python [default]",
   "language": "python",
   "name": "python3"
  },
  "language_info": {
   "codemirror_mode": {
    "name": "ipython",
    "version": 3
   },
   "file_extension": ".py",
   "mimetype": "text/x-python",
   "name": "python",
   "nbconvert_exporter": "python",
   "pygments_lexer": "ipython3",
   "version": "3.6.4"
  }
 },
 "nbformat": 4,
 "nbformat_minor": 2
}
